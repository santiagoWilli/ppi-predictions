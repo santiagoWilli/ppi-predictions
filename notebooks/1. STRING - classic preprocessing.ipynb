{
 "cells": [
  {
   "cell_type": "markdown",
   "metadata": {},
   "source": [
    "# STRING - Classic preprocessing\n",
    "\n",
    "Este notebook es una primera aproximación donde se preprocesarán las interacciones físicas directas registradas en el dataset STRING y se codificarán numéricamente para en el siguiente notebook hacer el entrenamiento del modelo.\n",
    "\n",
    "Para ello, se ha descargado el dataset con interacciones físicas filtrado por la especie homo sapiens."
   ]
  },
  {
   "cell_type": "code",
   "execution_count": 3,
   "metadata": {},
   "outputs": [],
   "source": [
    "import sys\n",
    "import os\n",
    "sys.path.append(os.path.abspath(\"../src\"))"
   ]
  },
  {
   "cell_type": "markdown",
   "metadata": {},
   "source": [
    "## 1. Exploración de datos"
   ]
  },
  {
   "cell_type": "code",
   "execution_count": null,
   "metadata": {},
   "outputs": [
    {
     "data": {
      "text/html": [
       "<div>\n",
       "<style scoped>\n",
       "    .dataframe tbody tr th:only-of-type {\n",
       "        vertical-align: middle;\n",
       "    }\n",
       "\n",
       "    .dataframe tbody tr th {\n",
       "        vertical-align: top;\n",
       "    }\n",
       "\n",
       "    .dataframe thead th {\n",
       "        text-align: right;\n",
       "    }\n",
       "</style>\n",
       "<table border=\"1\" class=\"dataframe\">\n",
       "  <thead>\n",
       "    <tr style=\"text-align: right;\">\n",
       "      <th></th>\n",
       "      <th>protein1</th>\n",
       "      <th>protein2</th>\n",
       "      <th>homology</th>\n",
       "      <th>experiments</th>\n",
       "      <th>experiments_transferred</th>\n",
       "      <th>database</th>\n",
       "      <th>database_transferred</th>\n",
       "      <th>textmining</th>\n",
       "      <th>textmining_transferred</th>\n",
       "      <th>combined_score</th>\n",
       "    </tr>\n",
       "  </thead>\n",
       "  <tbody>\n",
       "    <tr>\n",
       "      <th>0</th>\n",
       "      <td>9606.ENSP00000000233</td>\n",
       "      <td>9606.ENSP00000257770</td>\n",
       "      <td>0</td>\n",
       "      <td>312</td>\n",
       "      <td>0</td>\n",
       "      <td>0</td>\n",
       "      <td>0</td>\n",
       "      <td>0</td>\n",
       "      <td>0</td>\n",
       "      <td>311</td>\n",
       "    </tr>\n",
       "    <tr>\n",
       "      <th>1</th>\n",
       "      <td>9606.ENSP00000000233</td>\n",
       "      <td>9606.ENSP00000226004</td>\n",
       "      <td>0</td>\n",
       "      <td>162</td>\n",
       "      <td>0</td>\n",
       "      <td>0</td>\n",
       "      <td>0</td>\n",
       "      <td>0</td>\n",
       "      <td>0</td>\n",
       "      <td>161</td>\n",
       "    </tr>\n",
       "    <tr>\n",
       "      <th>2</th>\n",
       "      <td>9606.ENSP00000000233</td>\n",
       "      <td>9606.ENSP00000434442</td>\n",
       "      <td>0</td>\n",
       "      <td>0</td>\n",
       "      <td>0</td>\n",
       "      <td>500</td>\n",
       "      <td>0</td>\n",
       "      <td>0</td>\n",
       "      <td>0</td>\n",
       "      <td>499</td>\n",
       "    </tr>\n",
       "    <tr>\n",
       "      <th>3</th>\n",
       "      <td>9606.ENSP00000000233</td>\n",
       "      <td>9606.ENSP00000262455</td>\n",
       "      <td>0</td>\n",
       "      <td>531</td>\n",
       "      <td>0</td>\n",
       "      <td>0</td>\n",
       "      <td>0</td>\n",
       "      <td>0</td>\n",
       "      <td>0</td>\n",
       "      <td>531</td>\n",
       "    </tr>\n",
       "    <tr>\n",
       "      <th>4</th>\n",
       "      <td>9606.ENSP00000000233</td>\n",
       "      <td>9606.ENSP00000303145</td>\n",
       "      <td>0</td>\n",
       "      <td>0</td>\n",
       "      <td>0</td>\n",
       "      <td>500</td>\n",
       "      <td>0</td>\n",
       "      <td>0</td>\n",
       "      <td>0</td>\n",
       "      <td>499</td>\n",
       "    </tr>\n",
       "  </tbody>\n",
       "</table>\n",
       "</div>"
      ],
      "text/plain": [
       "               protein1              protein2  homology  experiments  \\\n",
       "0  9606.ENSP00000000233  9606.ENSP00000257770         0          312   \n",
       "1  9606.ENSP00000000233  9606.ENSP00000226004         0          162   \n",
       "2  9606.ENSP00000000233  9606.ENSP00000434442         0            0   \n",
       "3  9606.ENSP00000000233  9606.ENSP00000262455         0          531   \n",
       "4  9606.ENSP00000000233  9606.ENSP00000303145         0            0   \n",
       "\n",
       "   experiments_transferred  database  database_transferred  textmining  \\\n",
       "0                        0         0                     0           0   \n",
       "1                        0         0                     0           0   \n",
       "2                        0       500                     0           0   \n",
       "3                        0         0                     0           0   \n",
       "4                        0       500                     0           0   \n",
       "\n",
       "   textmining_transferred  combined_score  \n",
       "0                       0             311  \n",
       "1                       0             161  \n",
       "2                       0             499  \n",
       "3                       0             531  \n",
       "4                       0             499  "
      ]
     },
     "execution_count": 1,
     "metadata": {},
     "output_type": "execute_result"
    }
   ],
   "source": [
    "import pandas as pd\n",
    "\n",
    "db_string_path = '../datasets/9606.protein.physical.links.full.v12.0.txt'\n",
    "df_string = pd.read_csv(db_string_path, sep=' ', low_memory=False)\n",
    "\n",
    "df_string.head()"
   ]
  },
  {
   "cell_type": "code",
   "execution_count": 2,
   "metadata": {},
   "outputs": [
    {
     "data": {
      "text/plain": [
       "(1477610, 10)"
      ]
     },
     "execution_count": 2,
     "metadata": {},
     "output_type": "execute_result"
    }
   ],
   "source": [
    "df_string.shape"
   ]
  },
  {
   "cell_type": "code",
   "execution_count": 3,
   "metadata": {},
   "outputs": [
    {
     "name": "stdout",
     "output_type": "stream",
     "text": [
      "<class 'pandas.core.frame.DataFrame'>\n",
      "RangeIndex: 1477610 entries, 0 to 1477609\n",
      "Data columns (total 10 columns):\n",
      " #   Column                   Non-Null Count    Dtype \n",
      "---  ------                   --------------    ----- \n",
      " 0   protein1                 1477610 non-null  object\n",
      " 1   protein2                 1477610 non-null  object\n",
      " 2   homology                 1477610 non-null  int64 \n",
      " 3   experiments              1477610 non-null  int64 \n",
      " 4   experiments_transferred  1477610 non-null  int64 \n",
      " 5   database                 1477610 non-null  int64 \n",
      " 6   database_transferred     1477610 non-null  int64 \n",
      " 7   textmining               1477610 non-null  int64 \n",
      " 8   textmining_transferred   1477610 non-null  int64 \n",
      " 9   combined_score           1477610 non-null  int64 \n",
      "dtypes: int64(8), object(2)\n",
      "memory usage: 112.7+ MB\n"
     ]
    }
   ],
   "source": [
    "df_string.info()"
   ]
  },
  {
   "cell_type": "code",
   "execution_count": 4,
   "metadata": {},
   "outputs": [
    {
     "data": {
      "text/plain": [
       "np.int64(0)"
      ]
     },
     "execution_count": 4,
     "metadata": {},
     "output_type": "execute_result"
    }
   ],
   "source": [
    "df_string.isna().sum().sum()"
   ]
  },
  {
   "cell_type": "markdown",
   "metadata": {},
   "source": [
    "## 2. Limpieza y preparación de datos\n",
    "El dataset de STRING que hemos descargado indica en la propia web: \"incl. distinction: direct vs. interologs\". Esto significa que se indica qué interacciones son directas o por interología. Para nuestro proyecto buscamos aquellas directas comprobadas en humanos mediante técnicas experimentales. Estas son las que tienen experimentos registrados."
   ]
  },
  {
   "cell_type": "code",
   "execution_count": 5,
   "metadata": {},
   "outputs": [
    {
     "name": "stdout",
     "output_type": "stream",
     "text": [
      "Total de interacciones con evidencia experimental directa: 947158\n"
     ]
    },
    {
     "data": {
      "text/html": [
       "<div>\n",
       "<style scoped>\n",
       "    .dataframe tbody tr th:only-of-type {\n",
       "        vertical-align: middle;\n",
       "    }\n",
       "\n",
       "    .dataframe tbody tr th {\n",
       "        vertical-align: top;\n",
       "    }\n",
       "\n",
       "    .dataframe thead th {\n",
       "        text-align: right;\n",
       "    }\n",
       "</style>\n",
       "<table border=\"1\" class=\"dataframe\">\n",
       "  <thead>\n",
       "    <tr style=\"text-align: right;\">\n",
       "      <th></th>\n",
       "      <th>protein1</th>\n",
       "      <th>protein2</th>\n",
       "      <th>homology</th>\n",
       "      <th>experiments</th>\n",
       "      <th>experiments_transferred</th>\n",
       "      <th>database</th>\n",
       "      <th>database_transferred</th>\n",
       "      <th>textmining</th>\n",
       "      <th>textmining_transferred</th>\n",
       "      <th>combined_score</th>\n",
       "    </tr>\n",
       "  </thead>\n",
       "  <tbody>\n",
       "    <tr>\n",
       "      <th>0</th>\n",
       "      <td>9606.ENSP00000000233</td>\n",
       "      <td>9606.ENSP00000257770</td>\n",
       "      <td>0</td>\n",
       "      <td>312</td>\n",
       "      <td>0</td>\n",
       "      <td>0</td>\n",
       "      <td>0</td>\n",
       "      <td>0</td>\n",
       "      <td>0</td>\n",
       "      <td>311</td>\n",
       "    </tr>\n",
       "    <tr>\n",
       "      <th>1</th>\n",
       "      <td>9606.ENSP00000000233</td>\n",
       "      <td>9606.ENSP00000226004</td>\n",
       "      <td>0</td>\n",
       "      <td>162</td>\n",
       "      <td>0</td>\n",
       "      <td>0</td>\n",
       "      <td>0</td>\n",
       "      <td>0</td>\n",
       "      <td>0</td>\n",
       "      <td>161</td>\n",
       "    </tr>\n",
       "    <tr>\n",
       "      <th>3</th>\n",
       "      <td>9606.ENSP00000000233</td>\n",
       "      <td>9606.ENSP00000262455</td>\n",
       "      <td>0</td>\n",
       "      <td>531</td>\n",
       "      <td>0</td>\n",
       "      <td>0</td>\n",
       "      <td>0</td>\n",
       "      <td>0</td>\n",
       "      <td>0</td>\n",
       "      <td>531</td>\n",
       "    </tr>\n",
       "    <tr>\n",
       "      <th>5</th>\n",
       "      <td>9606.ENSP00000000233</td>\n",
       "      <td>9606.ENSP00000263265</td>\n",
       "      <td>0</td>\n",
       "      <td>292</td>\n",
       "      <td>0</td>\n",
       "      <td>0</td>\n",
       "      <td>0</td>\n",
       "      <td>0</td>\n",
       "      <td>0</td>\n",
       "      <td>292</td>\n",
       "    </tr>\n",
       "    <tr>\n",
       "      <th>6</th>\n",
       "      <td>9606.ENSP00000000233</td>\n",
       "      <td>9606.ENSP00000365686</td>\n",
       "      <td>0</td>\n",
       "      <td>221</td>\n",
       "      <td>0</td>\n",
       "      <td>0</td>\n",
       "      <td>0</td>\n",
       "      <td>0</td>\n",
       "      <td>0</td>\n",
       "      <td>221</td>\n",
       "    </tr>\n",
       "  </tbody>\n",
       "</table>\n",
       "</div>"
      ],
      "text/plain": [
       "               protein1              protein2  homology  experiments  \\\n",
       "0  9606.ENSP00000000233  9606.ENSP00000257770         0          312   \n",
       "1  9606.ENSP00000000233  9606.ENSP00000226004         0          162   \n",
       "3  9606.ENSP00000000233  9606.ENSP00000262455         0          531   \n",
       "5  9606.ENSP00000000233  9606.ENSP00000263265         0          292   \n",
       "6  9606.ENSP00000000233  9606.ENSP00000365686         0          221   \n",
       "\n",
       "   experiments_transferred  database  database_transferred  textmining  \\\n",
       "0                        0         0                     0           0   \n",
       "1                        0         0                     0           0   \n",
       "3                        0         0                     0           0   \n",
       "5                        0         0                     0           0   \n",
       "6                        0         0                     0           0   \n",
       "\n",
       "   textmining_transferred  combined_score  \n",
       "0                       0             311  \n",
       "1                       0             161  \n",
       "3                       0             531  \n",
       "5                       0             292  \n",
       "6                       0             221  "
      ]
     },
     "execution_count": 5,
     "metadata": {},
     "output_type": "execute_result"
    }
   ],
   "source": [
    "df_direct = df_string[df_string['experiments'] > 0]\n",
    "print(f\"Total de interacciones con evidencia experimental directa: {len(df_direct)}\")\n",
    "df_direct.head()"
   ]
  },
  {
   "cell_type": "markdown",
   "metadata": {},
   "source": [
    "Ahora que tenemos aquellas proteínas con interacción física directa, obtenemos el listado de proteínas únicas y nos quedamos con los pares de proteínas conocidos (estos serán nuestros casos positivos) para luego generar pares que no estén registrados (estos serán los casos negativos)."
   ]
  },
  {
   "cell_type": "code",
   "execution_count": 6,
   "metadata": {},
   "outputs": [
    {
     "name": "stdout",
     "output_type": "stream",
     "text": [
      "Número de proteínas únicas: 18767\n"
     ]
    }
   ],
   "source": [
    "# Obtenemos todas las proteínas únicas\n",
    "all_proteins = pd.unique(df_string[['protein1', 'protein2']].values.ravel())\n",
    "print(f\"Número de proteínas únicas: {len(all_proteins)}\")"
   ]
  },
  {
   "cell_type": "code",
   "execution_count": 7,
   "metadata": {},
   "outputs": [],
   "source": [
    "positive_pairs = set(\n",
    "    tuple(sorted([row['protein1'], row['protein2']]))\n",
    "    for _, row in df_direct.iterrows()\n",
    ")"
   ]
  },
  {
   "cell_type": "code",
   "execution_count": 8,
   "metadata": {},
   "outputs": [],
   "source": [
    "import random\n",
    "\n",
    "negative_pairs = set()\n",
    "\n",
    "while len(negative_pairs) < len(df_direct):\n",
    "    p1, p2 = random.sample(list(all_proteins), 2)\n",
    "    pair = tuple(sorted([p1, p2]))\n",
    "    if pair not in positive_pairs:\n",
    "        negative_pairs.add(pair)"
   ]
  },
  {
   "cell_type": "markdown",
   "metadata": {},
   "source": [
    "Acabamos de generar el set de casos negativos para nuestro modelo. Sin embargo, hay que aclarar que aquí nos encontramos ante uno de los mayores desafíos conceptuales de las PPI: los casos negativos no implica que esas dos proteínas se haya demostrado que no interactúen entre ellas, implica que su interacción no está recogida dentro del listado de interacciones conocidas. Esto nos dice que un par del set de negativos podría en realidad dar lugar a una interacción positiva si se hiciese una prueba experimental. Entonces, **asumimos que los pares \"negativos\" no es que no interactúen entre ellas, sino que desconocemos su interacción**."
   ]
  },
  {
   "cell_type": "code",
   "execution_count": 9,
   "metadata": {},
   "outputs": [],
   "source": [
    "df_negative = pd.DataFrame(list(negative_pairs), columns=['protein1', 'protein2'])\n",
    "df_negative['label'] = 0\n",
    "\n",
    "df_positive = df_direct[['protein1', 'protein2']].copy()\n",
    "df_positive['label'] = 1\n",
    "\n",
    "df_string_balanced = pd.concat([df_positive, df_negative], ignore_index=True)"
   ]
  },
  {
   "cell_type": "code",
   "execution_count": null,
   "metadata": {},
   "outputs": [
    {
     "name": "stdout",
     "output_type": "stream",
     "text": [
      "Total de proteínas indexadas: 123887\n"
     ]
    }
   ],
   "source": [
    "import importlib\n",
    "import src.fasta_parser\n",
    "importlib.reload(src.fasta_parser)\n",
    "\n",
    "from fasta_parser import FastaParser\n",
    "\n",
    "fasta_parser = FastaParser(\"../datasets/Homo_sapiens.GRCh38.pep.all.fa\")\n",
    "protein_seqs = fasta_parser.to_dict()\n",
    "\n",
    "print(f\"Total de proteínas indexadas: {len(protein_seqs)}\")"
   ]
  },
  {
   "cell_type": "code",
   "execution_count": 11,
   "metadata": {},
   "outputs": [
    {
     "name": "stdout",
     "output_type": "stream",
     "text": [
      "ENSP00000451468: XSQPHTKPSVFVMKNGTNVACLVKEFYPKDIRINLVSSKKITEFDPAIVI...\n",
      "ENSP00000480116: XIQNPDPAVYQLRDSKSSDKSVCLFTDFDSQTNVSQSKDSDVYITDKTVL...\n",
      "ENSP00000487742: XDLNKVFPPEVAVFEPSEAEISHTQKATLVCLATGFFPDHVELSWWVNGK...\n",
      "ENSP00000488819: XDLNKVFPPEVAVFEPSEAEISHTQKATLVCLATGFFPDHVELSWWVNGK...\n",
      "ENSP00000478873: XDLKNVFPPEVAVFEPSEAEISHTQKATLVCLATGFYPDHVELSWWVNGK...\n"
     ]
    }
   ],
   "source": [
    "for i, (ensembl_id, seq) in enumerate(protein_seqs.items()):\n",
    "    print(f\"{ensembl_id}: {seq[:50]}...\")\n",
    "    if i >= 4:\n",
    "        break"
   ]
  },
  {
   "cell_type": "code",
   "execution_count": 12,
   "metadata": {},
   "outputs": [],
   "source": [
    "df_string_balanced[\"sequence1\"] = df_string_balanced[\"protein1\"].apply(\n",
    "    lambda p: protein_seqs.get(fasta_parser.extract_ensembl_id(p), None)\n",
    ")\n",
    "df_string_balanced[\"sequence2\"] = df_string_balanced[\"protein2\"].apply(\n",
    "    lambda p: protein_seqs.get(fasta_parser.extract_ensembl_id(p), None)\n",
    ")"
   ]
  },
  {
   "cell_type": "code",
   "execution_count": 13,
   "metadata": {},
   "outputs": [
    {
     "data": {
      "text/plain": [
       "(1894316, 5)"
      ]
     },
     "execution_count": 13,
     "metadata": {},
     "output_type": "execute_result"
    }
   ],
   "source": [
    "df_string_balanced.shape"
   ]
  },
  {
   "cell_type": "code",
   "execution_count": 14,
   "metadata": {},
   "outputs": [
    {
     "data": {
      "text/plain": [
       "np.int64(66790)"
      ]
     },
     "execution_count": 14,
     "metadata": {},
     "output_type": "execute_result"
    }
   ],
   "source": [
    "df_string_balanced.isna().sum().sum()"
   ]
  },
  {
   "cell_type": "markdown",
   "metadata": {},
   "source": [
    "Observamos que hay 66626 NaNs en nuestro DF tras añadir las secuencias de aminoácidos. Investigamos qué ocurre."
   ]
  },
  {
   "cell_type": "code",
   "execution_count": null,
   "metadata": {},
   "outputs": [
    {
     "name": "stdout",
     "output_type": "stream",
     "text": [
      "🔍 Pares con al menos un ID faltante: 66148\n",
      "🔍 IDs únicos no encontrados: 366\n",
      "\n",
      "🔍 Ejemplos de IDs no encontrados:\n",
      "['ENSP00000500939', 'ENSP00000479207', 'ENSP00000495398', 'ENSP00000482678', 'ENSP00000357126', 'ENSP00000480313', 'ENSP00000359563', 'ENSP00000468007', 'ENSP00000485582', 'ENSP00000482810']\n"
     ]
    }
   ],
   "source": [
    "from utils import analyze_missing_proteins\n",
    "\n",
    "analyze_missing_proteins(df_string_balanced, protein_seqs)"
   ]
  },
  {
   "cell_type": "markdown",
   "metadata": {},
   "source": [
    "Parece que el problema es que 366 proteínas del dataset de STRING no se encuentran en el archivo FASTA de Ensembl. Esto puede deberse a distintos factores, como que las proteínas hayan sido renombradas, retiradas o aún no incluídas en el fichero de Ensembl. Teniendo en cuenta que tenemos un dataset con 1.894.316 entradas, eliminar 66.626 no se considera un problema."
   ]
  },
  {
   "cell_type": "code",
   "execution_count": 16,
   "metadata": {},
   "outputs": [],
   "source": [
    "df_string_balanced.dropna(inplace=True)"
   ]
  },
  {
   "cell_type": "markdown",
   "metadata": {},
   "source": [
    "## Sequence encoding"
   ]
  },
  {
   "cell_type": "markdown",
   "metadata": {},
   "source": [
    "Antes de codificar y preparar las secuencias proteicas como entrada al modelo, tenemos que determinar una longitud máxima (`max_length`) para todas ellas. Los modelos de deep learning, especialmente aquellos que trabajan con batches, requieren entradas de tamaño fijo.\n",
    "\n",
    "Para definir un `max_length` adecuado, analizaremos la distribución de longitudes de todas las secuencias de proteínas involucradas en los pares del dataset. Esto nos permitirá encontrar un equilibrio entre:\n",
    "\n",
    "- Maximizar la cobertura (evitar truncar demasiadas secuencias)\n",
    "- Minimizar el uso de memoria y el tiempo de entrenamiento"
   ]
  },
  {
   "cell_type": "code",
   "execution_count": 17,
   "metadata": {},
   "outputs": [
    {
     "name": "stdout",
     "output_type": "stream",
     "text": [
      "count    3.656336e+06\n",
      "mean     6.112483e+02\n",
      "std      6.530258e+02\n",
      "min      2.500000e+01\n",
      "25%      2.760000e+02\n",
      "50%      4.570000e+02\n",
      "75%      7.390000e+02\n",
      "max      3.599100e+04\n",
      "dtype: float64\n",
      "Cuantiles:\n",
      "0.50     457.0\n",
      "0.75     739.0\n",
      "0.90    1174.0\n",
      "0.95    1622.0\n",
      "0.99    2839.0\n",
      "dtype: float64\n"
     ]
    },
    {
     "data": {
      "image/png": "[encoded data removed]",
      "text/plain": [
       "<Figure size 640x480 with 1 Axes>"
      ]
     },
     "metadata": {},
     "output_type": "display_data"
    }
   ],
   "source": [
    "import pandas as pd\n",
    "import matplotlib.pyplot as plt\n",
    "\n",
    "df_string_balanced[\"len_seq1\"] = df_string_balanced[\"sequence1\"].str.len()\n",
    "df_string_balanced[\"len_seq2\"] = df_string_balanced[\"sequence2\"].str.len()\n",
    "\n",
    "lengths = pd.concat([df_string_balanced[\"len_seq1\"], df_string_balanced[\"len_seq2\"]])\n",
    "\n",
    "print(lengths.describe())\n",
    "print(\"Cuantiles:\")\n",
    "print(lengths.quantile([0.5, 0.75, 0.90, 0.95, 0.99]))\n",
    "\n",
    "plt.hist(lengths, bins=100, edgecolor=\"black\")\n",
    "plt.title(\"Distribución de longitudes de secuencias\")\n",
    "plt.xlabel(\"Longitud\")\n",
    "plt.ylabel(\"Frecuencia\")\n",
    "plt.xlim(0, 2000)\n",
    "plt.grid(True)\n",
    "plt.show()"
   ]
  },
  {
   "cell_type": "markdown",
   "metadata": {},
   "source": [
    "El histograma muestra que la gran mayoría de las secuencias tienen una longitud inferior a 1000 aminoácidos. En concreto, los percentiles calculados reflejan que:\n",
    "\n",
    "- El 90 % de las secuencias tienen ≤ 1174 aminoácidos\n",
    "- El 95 % tienen ≤ 1621\n",
    "- El 99 % tienen ≤ 2817\n",
    "\n",
    "Basándonos en esta distribución, se ha decidido establecer un `max_length` de **1024**. Este valor permite cubrir hasta casi el 90 % de las secuencias sin truncamiento, al tiempo que mantiene un consumo de memoria razonable compatible con la GPU disponible. Las secuencias más largas serán truncadas para ajustarse a esta longitud, mientras que las más cortas serán completadas mediante padding."
   ]
  },
  {
   "cell_type": "code",
   "execution_count": null,
   "metadata": {},
   "outputs": [
    {
     "name": "stdout",
     "output_type": "stream",
     "text": [
      "Memoria liberada. Tamaño final del dataset: 1828168 filas\n"
     ]
    }
   ],
   "source": [
    "# Borramos todos los DFs excepto el df_string_balanced\n",
    "import gc\n",
    "\n",
    "del df_string\n",
    "del df_direct\n",
    "del df_negative\n",
    "del df_positive\n",
    "gc.collect()\n",
    "\n",
    "# Guardamos el DataFrame balanceado\n",
    "df_string_balanced.drop(columns=[\"len_seq1\", \"len_seq1\"], inplace=True)\n",
    "df_string_balanced.to_parquet(\"../datasets/df_string_balanced.parquet\")\n",
    "\n",
    "print(f\"Memoria liberada. Tamaño final del dataset: {len(df_string_balanced)} filas\")"
   ]
  },
  {
   "cell_type": "code",
   "execution_count": null,
   "metadata": {},
   "outputs": [],
   "source": [
    "# import sys\n",
    "# import os\n",
    "# sys.path.append(os.path.abspath(\"../src\"))\n",
    "\n",
    "# import pandas as pd\n",
    "# df_string_balanced = pd.read_parquet(\"../datasets/df_string_balanced.parquet\")\n",
    "# df_string_balanced.drop(columns=[\"len_seq1\", \"len_seq1\"], inplace=True)"
   ]
  },
  {
   "cell_type": "code",
   "execution_count": null,
   "metadata": {},
   "outputs": [],
   "source": [
    "from encoders.numeric_sequence_encoder import NumericSequenceEncoder\n",
    "from sequence_preprocessor import SequencePreprocessor\n",
    "\n",
    "encoder = NumericSequenceEncoder()\n",
    "preprocessor = SequencePreprocessor(encoder, max_length=1024, chunk_size=20000)\n",
    "\n",
    "df_encoded = preprocessor.process_dataframe(df_string_balanced)\n",
    "df_encoded.to_parquet(\"../processed_data/classic_encoded_1024.parquet\")"
   ]
  },
  {
   "cell_type": "markdown",
   "metadata": {},
   "source": [
    "### Conclusión del preprocesamiento\n",
    "\n",
    "En este primer notebook se ha llevado a cabo el preprocesamiento completo del dataset de interacciones proteína-proteína (PPI) con evidencia experimental directa, extraído de la base de datos STRING.\n",
    "\n",
    "El proceso incluyó la asociación de secuencias de aminoácidos mediante identificadores Ensembl, la codificación numérica de las secuencias con una longitud máxima de 1024 residuos, y el etiquetado binario de las interacciones (positivas y negativas). Para ello se implementaron clases reutilizables siguiendo principios de diseño limpio y modular, como `SequencePreprocessor` y `SequenceEncoder`.\n",
    "\n",
    "El resultado final es un archivo en formato `.parquet` que contiene los datos preprocesados y balanceados, listos para ser utilizados en la fase de entrenamiento del modelo de deep learning. Este enfoque desacopla el procesamiento de datos del entrenamiento, facilitando futuras pruebas con distintos modelos y codificadores sin necesidad de repetir esta etapa.\n"
   ]
  }
 ],
 "metadata": {
  "kernelspec": {
   "display_name": "tfm_env",
   "language": "python",
   "name": "python3"
  },
  "language_info": {
   "codemirror_mode": {
    "name": "ipython",
    "version": 3
   },
   "file_extension": ".py",
   "mimetype": "text/x-python",
   "name": "python",
   "nbconvert_exporter": "python",
   "pygments_lexer": "ipython3",
   "version": "3.12.3"
  }
 },
 "nbformat": 4,
 "nbformat_minor": 2
}
