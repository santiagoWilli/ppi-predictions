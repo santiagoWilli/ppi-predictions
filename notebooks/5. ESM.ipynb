{
 "cells": [
  {
   "cell_type": "markdown",
   "id": "6c56f9d2",
   "metadata": {},
   "source": [
    "# ESM Model"
   ]
  },
  {
   "cell_type": "code",
   "execution_count": 1,
   "id": "d4fae92e",
   "metadata": {},
   "outputs": [],
   "source": [
    "import sys\n",
    "import os\n",
    "sys.path.append(os.path.abspath(\"../src\"))"
   ]
  },
  {
   "cell_type": "code",
   "execution_count": 2,
   "id": "37cb14c2",
   "metadata": {},
   "outputs": [],
   "source": [
    "!export PYTORCH_CUDA_ALLOC_CONF=\"expandable_segments:True\""
   ]
  },
  {
   "cell_type": "code",
   "execution_count": 3,
   "id": "cb26ae33",
   "metadata": {},
   "outputs": [],
   "source": [
    "import gc\n",
    "import torch\n",
    "gc.collect()\n",
    "torch.cuda.empty_cache()"
   ]
  },
  {
   "cell_type": "code",
   "execution_count": 4,
   "id": "c4c3fc9a",
   "metadata": {},
   "outputs": [],
   "source": [
    "import pandas as pd\n",
    "\n",
    "df = pd.read_parquet(\"../datasets/df_string_balanced.parquet\")"
   ]
  },
  {
   "cell_type": "code",
   "execution_count": 5,
   "id": "0b0d38f8",
   "metadata": {},
   "outputs": [
    {
     "data": {
      "text/html": [
       "<div>\n",
       "<style scoped>\n",
       "    .dataframe tbody tr th:only-of-type {\n",
       "        vertical-align: middle;\n",
       "    }\n",
       "\n",
       "    .dataframe tbody tr th {\n",
       "        vertical-align: top;\n",
       "    }\n",
       "\n",
       "    .dataframe thead th {\n",
       "        text-align: right;\n",
       "    }\n",
       "</style>\n",
       "<table border=\"1\" class=\"dataframe\">\n",
       "  <thead>\n",
       "    <tr style=\"text-align: right;\">\n",
       "      <th></th>\n",
       "      <th>protein1</th>\n",
       "      <th>protein2</th>\n",
       "      <th>label</th>\n",
       "      <th>sequence1</th>\n",
       "      <th>sequence2</th>\n",
       "    </tr>\n",
       "  </thead>\n",
       "  <tbody>\n",
       "    <tr>\n",
       "      <th>0</th>\n",
       "      <td>9606.ENSP00000000233</td>\n",
       "      <td>9606.ENSP00000257770</td>\n",
       "      <td>1</td>\n",
       "      <td>MGLTVSALFSRIFGKKQMRILMVGLDAAGKTTILYKLKLGEIVTTI...</td>\n",
       "      <td>MCPRAARAPATLLLALGAVLWPAAGAWELTILHTNDVHSRLEQTSE...</td>\n",
       "    </tr>\n",
       "    <tr>\n",
       "      <th>1</th>\n",
       "      <td>9606.ENSP00000000233</td>\n",
       "      <td>9606.ENSP00000226004</td>\n",
       "      <td>1</td>\n",
       "      <td>MGLTVSALFSRIFGKKQMRILMVGLDAAGKTTILYKLKLGEIVTTI...</td>\n",
       "      <td>MSGSFELSVQDLNDLLSDGSGCYSLPSQPCNEVTPRIYVGNASVAQ...</td>\n",
       "    </tr>\n",
       "    <tr>\n",
       "      <th>2</th>\n",
       "      <td>9606.ENSP00000000233</td>\n",
       "      <td>9606.ENSP00000262455</td>\n",
       "      <td>1</td>\n",
       "      <td>MGLTVSALFSRIFGKKQMRILMVGLDAAGKTTILYKLKLGEIVTTI...</td>\n",
       "      <td>MHPAVFLSLPDLRCSLLLLVTWVFTPVTTEITSLDTENIDEILNNA...</td>\n",
       "    </tr>\n",
       "    <tr>\n",
       "      <th>3</th>\n",
       "      <td>9606.ENSP00000000233</td>\n",
       "      <td>9606.ENSP00000263265</td>\n",
       "      <td>1</td>\n",
       "      <td>MGLTVSALFSRIFGKKQMRILMVGLDAAGKTTILYKLKLGEIVTTI...</td>\n",
       "      <td>MEGSRPRSSLSLASSASTISSLSSLSPKKPTRAVNKIHAFGKRGNA...</td>\n",
       "    </tr>\n",
       "    <tr>\n",
       "      <th>4</th>\n",
       "      <td>9606.ENSP00000000233</td>\n",
       "      <td>9606.ENSP00000365686</td>\n",
       "      <td>1</td>\n",
       "      <td>MGLTVSALFSRIFGKKQMRILMVGLDAAGKTTILYKLKLGEIVTTI...</td>\n",
       "      <td>MGMSKSHSFFGYPLSIFFIVVNEFCERFSYYGMRAILILYFTNFIS...</td>\n",
       "    </tr>\n",
       "  </tbody>\n",
       "</table>\n",
       "</div>"
      ],
      "text/plain": [
       "               protein1              protein2  label  \\\n",
       "0  9606.ENSP00000000233  9606.ENSP00000257770      1   \n",
       "1  9606.ENSP00000000233  9606.ENSP00000226004      1   \n",
       "2  9606.ENSP00000000233  9606.ENSP00000262455      1   \n",
       "3  9606.ENSP00000000233  9606.ENSP00000263265      1   \n",
       "4  9606.ENSP00000000233  9606.ENSP00000365686      1   \n",
       "\n",
       "                                           sequence1  \\\n",
       "0  MGLTVSALFSRIFGKKQMRILMVGLDAAGKTTILYKLKLGEIVTTI...   \n",
       "1  MGLTVSALFSRIFGKKQMRILMVGLDAAGKTTILYKLKLGEIVTTI...   \n",
       "2  MGLTVSALFSRIFGKKQMRILMVGLDAAGKTTILYKLKLGEIVTTI...   \n",
       "3  MGLTVSALFSRIFGKKQMRILMVGLDAAGKTTILYKLKLGEIVTTI...   \n",
       "4  MGLTVSALFSRIFGKKQMRILMVGLDAAGKTTILYKLKLGEIVTTI...   \n",
       "\n",
       "                                           sequence2  \n",
       "0  MCPRAARAPATLLLALGAVLWPAAGAWELTILHTNDVHSRLEQTSE...  \n",
       "1  MSGSFELSVQDLNDLLSDGSGCYSLPSQPCNEVTPRIYVGNASVAQ...  \n",
       "2  MHPAVFLSLPDLRCSLLLLVTWVFTPVTTEITSLDTENIDEILNNA...  \n",
       "3  MEGSRPRSSLSLASSASTISSLSSLSPKKPTRAVNKIHAFGKRGNA...  \n",
       "4  MGMSKSHSFFGYPLSIFFIVVNEFCERFSYYGMRAILILYFTNFIS...  "
      ]
     },
     "execution_count": 5,
     "metadata": {},
     "output_type": "execute_result"
    }
   ],
   "source": [
    "df.head()"
   ]
  },
  {
   "cell_type": "code",
   "execution_count": 6,
   "id": "8dcb477e",
   "metadata": {},
   "outputs": [
    {
     "name": "stderr",
     "output_type": "stream",
     "text": [
      "Some weights of EsmModel were not initialized from the model checkpoint at facebook/esm2_t6_8M_UR50D and are newly initialized: ['esm.pooler.dense.bias', 'esm.pooler.dense.weight']\n",
      "You should probably TRAIN this model on a down-stream task to be able to use it for predictions and inference.\n",
      "Encoding with ESM-2: 100%|██████████| 57139/57139 [8:49:12<00:00,  1.80it/s]   \n"
     ]
    },
    {
     "name": "stdout",
     "output_type": "stream",
     "text": [
      "---Saved: ../processed_data/esm_embeddings/esm_protein1.pt\n",
      "---Saved: ../processed_data/esm_embeddings/esm_protein2.pt\n",
      "---Saved: ../processed_data/esm_embeddings/esm_labels.pt\n"
     ]
    }
   ],
   "source": [
    "from models.esm.embedder import ESMEmbedder\n",
    "\n",
    "output_dir = \"../processed_data/esm_embeddings\"\n",
    "\n",
    "if not os.path.exists(output_dir):\n",
    "    seqs1 = df[\"sequence1\"].tolist()\n",
    "    seqs2 = df[\"sequence2\"].tolist()\n",
    "    labels = df[\"label\"].to_numpy()\n",
    "\n",
    "    embedder = ESMEmbedder(batch_size=32)\n",
    "    X1, X2 = embedder.embed_all(seqs1, seqs2)\n",
    "\n",
    "    embedder.save(X1, X2, labels, output_dir=output_dir)\n",
    "\n",
    "    # clear variables\n",
    "    del embedder, seqs1, seqs2, X1, X2, labels\n",
    "    gc.collect()\n",
    "    torch.cuda.empty_cache()"
   ]
  },
  {
   "cell_type": "code",
   "execution_count": null,
   "id": "f64ebefe",
   "metadata": {},
   "outputs": [],
   "source": [
    "from models.esm.train_pipeline import train_model\n",
    "from models.esm.dataset import ESMDataset\n",
    "from torch.utils.data import DataLoader, random_split\n",
    "\n",
    "data_dir = \"../processed_data\"\n",
    "batch_size = 64\n",
    "\n",
    "dataset = ESMDataset(data_dir)\n",
    "train_size = int(0.7 * len(dataset))\n",
    "val_size = int(0.15 * len(dataset))\n",
    "test_size = len(dataset) - train_size - val_size\n",
    "train_ds, val_ds, test_ds = random_split(dataset, [train_size, val_size, test_size])\n",
    "\n",
    "train_loader = DataLoader(train_ds, batch_size=batch_size, shuffle=True, num_workers=8, pin_memory=True)\n",
    "val_loader = DataLoader(val_ds, batch_size=batch_size)\n",
    "test_loader = DataLoader(test_ds, batch_size=batch_size)\n",
    "\n",
    "model = train_model(\n",
    "    train_loader=train_loader,\n",
    "    val_loader=val_loader,\n",
    "    model_save_path=\"../models\",\n",
    "    input_dim=1280,\n",
    "    hidden_dim=512,\n",
    "    lr=1e-3,\n",
    "    epochs=50,\n",
    "    patience=3\n",
    ")"
   ]
  },
  {
   "cell_type": "code",
   "execution_count": null,
   "id": "cac85324",
   "metadata": {},
   "outputs": [],
   "source": [
    "from models.esm.evaluate import evaluate_model\n",
    "\n",
    "evaluate_model(model, test_loader)"
   ]
  }
 ],
 "metadata": {
  "kernelspec": {
   "display_name": "tfm_env",
   "language": "python",
   "name": "python3"
  },
  "language_info": {
   "codemirror_mode": {
    "name": "ipython",
    "version": 3
   },
   "file_extension": ".py",
   "mimetype": "text/x-python",
   "name": "python",
   "nbconvert_exporter": "python",
   "pygments_lexer": "ipython3",
   "version": "3.12.3"
  }
 },
 "nbformat": 4,
 "nbformat_minor": 5
}
