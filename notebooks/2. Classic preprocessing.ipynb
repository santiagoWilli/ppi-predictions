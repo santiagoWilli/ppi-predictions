{
 "cells": [
  {
   "cell_type": "markdown",
   "metadata": {},
   "source": [
    "# Classic (numeric) preprocessing\n",
    "\n",
    "Este notebook es una primera aproximación donde se preprocesará el dataset codificando numéricamente cada par de aminoacidos para en el siguiente notebook hacer el entrenamiento del modelo."
   ]
  },
  {
   "cell_type": "code",
   "execution_count": 5,
   "metadata": {},
   "outputs": [],
   "source": [
    "import sys\n",
    "import os\n",
    "sys.path.append(os.path.abspath(\"../src\"))"
   ]
  },
  {
   "cell_type": "code",
   "execution_count": 6,
   "metadata": {},
   "outputs": [],
   "source": [
    "import pandas as pd\n",
    "\n",
    "df_string_balanced = pd.read_parquet(\"../datasets/df_string_balanced.parquet\")"
   ]
  },
  {
   "cell_type": "code",
   "execution_count": 7,
   "metadata": {},
   "outputs": [
    {
     "data": {
      "text/plain": [
       "(1828447, 5)"
      ]
     },
     "execution_count": 7,
     "metadata": {},
     "output_type": "execute_result"
    }
   ],
   "source": [
    "df_string_balanced.shape"
   ]
  },
  {
   "cell_type": "code",
   "execution_count": 5,
   "metadata": {},
   "outputs": [
    {
     "data": {
      "text/html": [
       "<div>\n",
       "<style scoped>\n",
       "    .dataframe tbody tr th:only-of-type {\n",
       "        vertical-align: middle;\n",
       "    }\n",
       "\n",
       "    .dataframe tbody tr th {\n",
       "        vertical-align: top;\n",
       "    }\n",
       "\n",
       "    .dataframe thead th {\n",
       "        text-align: right;\n",
       "    }\n",
       "</style>\n",
       "<table border=\"1\" class=\"dataframe\">\n",
       "  <thead>\n",
       "    <tr style=\"text-align: right;\">\n",
       "      <th></th>\n",
       "      <th>protein1</th>\n",
       "      <th>protein2</th>\n",
       "      <th>label</th>\n",
       "      <th>sequence1</th>\n",
       "      <th>sequence2</th>\n",
       "    </tr>\n",
       "  </thead>\n",
       "  <tbody>\n",
       "    <tr>\n",
       "      <th>0</th>\n",
       "      <td>9606.ENSP00000000233</td>\n",
       "      <td>9606.ENSP00000257770</td>\n",
       "      <td>1</td>\n",
       "      <td>MGLTVSALFSRIFGKKQMRILMVGLDAAGKTTILYKLKLGEIVTTI...</td>\n",
       "      <td>MCPRAARAPATLLLALGAVLWPAAGAWELTILHTNDVHSRLEQTSE...</td>\n",
       "    </tr>\n",
       "    <tr>\n",
       "      <th>1</th>\n",
       "      <td>9606.ENSP00000000233</td>\n",
       "      <td>9606.ENSP00000226004</td>\n",
       "      <td>1</td>\n",
       "      <td>MGLTVSALFSRIFGKKQMRILMVGLDAAGKTTILYKLKLGEIVTTI...</td>\n",
       "      <td>MSGSFELSVQDLNDLLSDGSGCYSLPSQPCNEVTPRIYVGNASVAQ...</td>\n",
       "    </tr>\n",
       "    <tr>\n",
       "      <th>2</th>\n",
       "      <td>9606.ENSP00000000233</td>\n",
       "      <td>9606.ENSP00000262455</td>\n",
       "      <td>1</td>\n",
       "      <td>MGLTVSALFSRIFGKKQMRILMVGLDAAGKTTILYKLKLGEIVTTI...</td>\n",
       "      <td>MHPAVFLSLPDLRCSLLLLVTWVFTPVTTEITSLDTENIDEILNNA...</td>\n",
       "    </tr>\n",
       "    <tr>\n",
       "      <th>3</th>\n",
       "      <td>9606.ENSP00000000233</td>\n",
       "      <td>9606.ENSP00000263265</td>\n",
       "      <td>1</td>\n",
       "      <td>MGLTVSALFSRIFGKKQMRILMVGLDAAGKTTILYKLKLGEIVTTI...</td>\n",
       "      <td>MEGSRPRSSLSLASSASTISSLSSLSPKKPTRAVNKIHAFGKRGNA...</td>\n",
       "    </tr>\n",
       "    <tr>\n",
       "      <th>4</th>\n",
       "      <td>9606.ENSP00000000233</td>\n",
       "      <td>9606.ENSP00000365686</td>\n",
       "      <td>1</td>\n",
       "      <td>MGLTVSALFSRIFGKKQMRILMVGLDAAGKTTILYKLKLGEIVTTI...</td>\n",
       "      <td>MGMSKSHSFFGYPLSIFFIVVNEFCERFSYYGMRAILILYFTNFIS...</td>\n",
       "    </tr>\n",
       "  </tbody>\n",
       "</table>\n",
       "</div>"
      ],
      "text/plain": [
       "               protein1              protein2  label  \\\n",
       "0  9606.ENSP00000000233  9606.ENSP00000257770      1   \n",
       "1  9606.ENSP00000000233  9606.ENSP00000226004      1   \n",
       "2  9606.ENSP00000000233  9606.ENSP00000262455      1   \n",
       "3  9606.ENSP00000000233  9606.ENSP00000263265      1   \n",
       "4  9606.ENSP00000000233  9606.ENSP00000365686      1   \n",
       "\n",
       "                                           sequence1  \\\n",
       "0  MGLTVSALFSRIFGKKQMRILMVGLDAAGKTTILYKLKLGEIVTTI...   \n",
       "1  MGLTVSALFSRIFGKKQMRILMVGLDAAGKTTILYKLKLGEIVTTI...   \n",
       "2  MGLTVSALFSRIFGKKQMRILMVGLDAAGKTTILYKLKLGEIVTTI...   \n",
       "3  MGLTVSALFSRIFGKKQMRILMVGLDAAGKTTILYKLKLGEIVTTI...   \n",
       "4  MGLTVSALFSRIFGKKQMRILMVGLDAAGKTTILYKLKLGEIVTTI...   \n",
       "\n",
       "                                           sequence2  \n",
       "0  MCPRAARAPATLLLALGAVLWPAAGAWELTILHTNDVHSRLEQTSE...  \n",
       "1  MSGSFELSVQDLNDLLSDGSGCYSLPSQPCNEVTPRIYVGNASVAQ...  \n",
       "2  MHPAVFLSLPDLRCSLLLLVTWVFTPVTTEITSLDTENIDEILNNA...  \n",
       "3  MEGSRPRSSLSLASSASTISSLSSLSPKKPTRAVNKIHAFGKRGNA...  \n",
       "4  MGMSKSHSFFGYPLSIFFIVVNEFCERFSYYGMRAILILYFTNFIS...  "
      ]
     },
     "execution_count": 5,
     "metadata": {},
     "output_type": "execute_result"
    }
   ],
   "source": [
    "df_string_balanced.head()"
   ]
  },
  {
   "cell_type": "markdown",
   "metadata": {},
   "source": [
    "## Sequence encoding"
   ]
  },
  {
   "cell_type": "markdown",
   "metadata": {},
   "source": [
    "Antes de codificar y preparar las secuencias proteicas como entrada al modelo, tenemos que determinar una longitud máxima (`max_length`) para todas ellas. Los modelos de deep learning, especialmente aquellos que trabajan con batches, requieren entradas de tamaño fijo.\n",
    "\n",
    "Para definir un `max_length` adecuado, analizaremos la distribución de longitudes de todas las secuencias de proteínas involucradas en los pares del dataset. Esto nos permitirá encontrar un equilibrio entre:\n",
    "\n",
    "- Maximizar la cobertura (evitar truncar demasiadas secuencias)\n",
    "- Minimizar el uso de memoria y el tiempo de entrenamiento"
   ]
  },
  {
   "cell_type": "code",
   "execution_count": 6,
   "metadata": {},
   "outputs": [
    {
     "name": "stdout",
     "output_type": "stream",
     "text": [
      "count    3.656894e+06\n",
      "mean     6.109886e+02\n",
      "std      6.572367e+02\n",
      "min      2.500000e+01\n",
      "25%      2.760000e+02\n",
      "50%      4.570000e+02\n",
      "75%      7.390000e+02\n",
      "max      3.599100e+04\n",
      "dtype: float64\n",
      "Cuantiles:\n",
      "0.50     457.0\n",
      "0.75     739.0\n",
      "0.90    1174.0\n",
      "0.95    1621.0\n",
      "0.99    2828.0\n",
      "dtype: float64\n"
     ]
    },
    {
     "data": {
      "image/png": "[encoded data removed]",
      "text/plain": [
       "<Figure size 640x480 with 1 Axes>"
      ]
     },
     "metadata": {},
     "output_type": "display_data"
    }
   ],
   "source": [
    "import pandas as pd\n",
    "import matplotlib.pyplot as plt\n",
    "\n",
    "df_string_balanced[\"len_seq1\"] = df_string_balanced[\"sequence1\"].str.len()\n",
    "df_string_balanced[\"len_seq2\"] = df_string_balanced[\"sequence2\"].str.len()\n",
    "\n",
    "lengths = pd.concat([df_string_balanced[\"len_seq1\"], df_string_balanced[\"len_seq2\"]])\n",
    "\n",
    "print(lengths.describe())\n",
    "print(\"Cuantiles:\")\n",
    "print(lengths.quantile([0.5, 0.75, 0.90, 0.95, 0.99]))\n",
    "\n",
    "plt.hist(lengths, bins=100, edgecolor=\"black\")\n",
    "plt.title(\"Distribución de longitudes de secuencias\")\n",
    "plt.xlabel(\"Longitud\")\n",
    "plt.ylabel(\"Frecuencia\")\n",
    "plt.xlim(0, 2000)\n",
    "plt.grid(True)\n",
    "plt.show()"
   ]
  },
  {
   "cell_type": "markdown",
   "metadata": {},
   "source": [
    "El histograma muestra que la gran mayoría de las secuencias tienen una longitud inferior a 1000 aminoácidos. En concreto, los percentiles calculados reflejan que:\n",
    "\n",
    "- El 90 % de las secuencias tienen ≤ 1174 aminoácidos\n",
    "- El 95 % tienen ≤ 1621\n",
    "- El 99 % tienen ≤ 2828\n",
    "\n",
    "Basándonos en esta distribución, se ha decidido establecer un `max_length` de **1024**. Este valor permite cubrir hasta casi el 90 % de las secuencias sin truncamiento, al tiempo que mantiene un consumo de memoria razonable compatible con la GPU disponible. Las secuencias más largas serán truncadas para ajustarse a esta longitud, mientras que las más cortas serán completadas mediante padding."
   ]
  },
  {
   "cell_type": "code",
   "execution_count": 7,
   "metadata": {},
   "outputs": [],
   "source": [
    "df_string_balanced.drop(columns=[\"len_seq1\", \"len_seq1\"], inplace=True)"
   ]
  },
  {
   "cell_type": "code",
   "execution_count": 8,
   "metadata": {},
   "outputs": [
    {
     "name": "stdout",
     "output_type": "stream",
     "text": [
      "Processing chunk 1/19...\n",
      "Processing chunk 2/19...\n",
      "Processing chunk 3/19...\n",
      "Processing chunk 4/19...\n",
      "Processing chunk 5/19...\n",
      "Processing chunk 6/19...\n",
      "Processing chunk 7/19...\n",
      "Processing chunk 8/19...\n",
      "Processing chunk 9/19...\n",
      "Processing chunk 10/19...\n",
      "Processing chunk 11/19...\n",
      "Processing chunk 12/19...\n",
      "Processing chunk 13/19...\n",
      "Processing chunk 14/19...\n",
      "Processing chunk 15/19...\n",
      "Processing chunk 16/19...\n",
      "Processing chunk 17/19...\n",
      "Processing chunk 18/19...\n",
      "Processing chunk 19/19...\n"
     ]
    }
   ],
   "source": [
    "from encoders.numeric_protein_encoder import NumericProteinEncoder\n",
    "from proteins_preprocessor import ProteinsPreprocessor\n",
    "\n",
    "encoder = NumericProteinEncoder()\n",
    "preprocessor = ProteinsPreprocessor(encoder, max_length=1024, chunk_size=100000, output_dir=\"../processed_data/numeric_chunks\")\n",
    "preprocessor.process_dataframe(df_string_balanced)"
   ]
  },
  {
   "cell_type": "code",
   "execution_count": 3,
   "metadata": {},
   "outputs": [
    {
     "name": "stdout",
     "output_type": "stream",
     "text": [
      "X1 shape: (1828447, 1024)\n",
      "X2 shape: (1828447, 1024)\n",
      "y shape: (1828447,)\n"
     ]
    }
   ],
   "source": [
    "from utils import load_numpy_dataset\n",
    "\n",
    "X1, X2, y = load_numpy_dataset(\"../processed_data/numeric_chunks\")\n",
    "print(f\"X1 shape: {X1.shape}\")\n",
    "print(f\"X2 shape: {X2.shape}\")\n",
    "print(f\"y shape: {y.shape}\")"
   ]
  },
  {
   "cell_type": "code",
   "execution_count": 4,
   "metadata": {},
   "outputs": [
    {
     "name": "stdout",
     "output_type": "stream",
     "text": [
      "Example 1509292:\n",
      "Input 1: [10  0  6 ...  0  0  0]\n",
      "Input 2: [10  6  2 ...  0  0  0]\n",
      "Label: 1\n",
      "----------------------------------------\n",
      "Example 195776:\n",
      "Input 1: [10  0  2 ...  5  6  9]\n",
      "Input 2: [10 16 15 ... 12  9  0]\n",
      "Label: 0\n",
      "----------------------------------------\n",
      "Example 446543:\n",
      "Input 1: [10 15  1 ...  0  0  0]\n",
      "Input 2: [10 12  3 ...  0  0  0]\n",
      "Label: 0\n",
      "----------------------------------------\n",
      "Example 233703:\n",
      "Input 1: [10  3  3 ...  0  0  0]\n",
      "Input 2: [10 17 13 ...  0  0  0]\n",
      "Label: 0\n",
      "----------------------------------------\n",
      "Example 1546234:\n",
      "Input 1: [10  5  0 ...  0  0  0]\n",
      "Input 2: [10  0  3 ...  0  0  0]\n",
      "Label: 1\n",
      "----------------------------------------\n"
     ]
    }
   ],
   "source": [
    "import random\n",
    "\n",
    "def display_random_examples(X1, X2, y, n=5):\n",
    "    for _ in range(n):\n",
    "        idx = random.randint(0, len(y) - 1)\n",
    "        print(f\"Example {idx}:\")\n",
    "        print(f\"Input 1: {X1[idx]}\")\n",
    "        print(f\"Input 2: {X2[idx]}\")\n",
    "        print(f\"Label: {y[idx]}\")\n",
    "        print(\"-\" * 40)\n",
    "display_random_examples(X1, X2, y, n=5)"
   ]
  },
  {
   "cell_type": "markdown",
   "metadata": {},
   "source": [
    "### Conclusión del preprocesamiento\n",
    "\n",
    "En este notebook se ha llevado a cabo el preprocesamiento completo del dataset de interacciones proteína-proteína (PPI) con evidencia experimental directa, extraído de la base de datos STRING.\n",
    "\n",
    "El proceso incluyó la asociación de secuencias de aminoácidos mediante identificadores Ensembl, la codificación numérica de las secuencias con una longitud máxima de 1024 residuos, y el etiquetado binario de las interacciones (positivas y negativas). Para ello se implementaron clases reutilizables siguiendo principios de diseño limpio y modular, como `SequencePreprocessor` y `SequenceEncoder`.\n",
    "\n",
    "El resultado es un directorio con nuestros datos correctamente preprocesados por chunks en formato `.npy`, listos para ser utilizados en la fase de entrenamiento del modelo de deep learning. Este enfoque desacopla el procesamiento de datos del entrenamiento, facilitando futuras pruebas con distintos modelos y codificadores sin necesidad de repetir esta etapa.\n"
   ]
  }
 ],
 "metadata": {
  "kernelspec": {
   "display_name": "tfm_env",
   "language": "python",
   "name": "python3"
  },
  "language_info": {
   "codemirror_mode": {
    "name": "ipython",
    "version": 3
   },
   "file_extension": ".py",
   "mimetype": "text/x-python",
   "name": "python",
   "nbconvert_exporter": "python",
   "pygments_lexer": "ipython3",
   "version": "3.12.3"
  }
 },
 "nbformat": 4,
 "nbformat_minor": 2
}
