{
 "cells": [
  {
   "cell_type": "markdown",
   "id": "a1bc63c3",
   "metadata": {},
   "source": [
    "# Siamese model with numeric input"
   ]
  },
  {
   "cell_type": "code",
   "execution_count": null,
   "id": "b7c99835",
   "metadata": {},
   "outputs": [],
   "source": [
    "import sys\n",
    "import os\n",
    "sys.path.append(os.path.abspath(\"../src\"))"
   ]
  },
  {
   "cell_type": "code",
   "execution_count": null,
   "id": "24e769cb",
   "metadata": {},
   "outputs": [],
   "source": [
    "!export PYTORCH_CUDA_ALLOC_CONF=\"expandable_segments:true\""
   ]
  },
  {
   "cell_type": "code",
   "execution_count": null,
   "id": "a3962dfd",
   "metadata": {},
   "outputs": [],
   "source": [
    "import gc\n",
    "import torch\n",
    "gc.collect()\n",
    "torch.cuda.empty_cache()"
   ]
  },
  {
   "cell_type": "code",
   "execution_count": null,
   "id": "56aecb3e",
   "metadata": {},
   "outputs": [],
   "source": [
    "max_length = 768 # or 1024"
   ]
  },
  {
   "cell_type": "code",
   "execution_count": null,
   "id": "3c602df5",
   "metadata": {},
   "outputs": [],
   "source": [
    "import torch\n",
    "from torch.utils.data import DataLoader, random_split\n",
    "from torch.nn import BCEWithLogitsLoss\n",
    "from torch.optim import Adam\n",
    "from protein_dataset import ProteinDataset\n",
    "from pathlib import Path\n",
    "from encoders.numeric_protein_encoder import NumericProteinEncoder\n",
    "from utils import load_numpy_dataset\n",
    "\n",
    "# Config\n",
    "device = torch.device(\"cuda\")\n",
    "\n",
    "batch_size = 64\n",
    "num_epochs = 5\n",
    "lr = 1e-3\n",
    "\n",
    "vocab_size = (NumericProteinEncoder().vocabulary_size() + 1) # +1 for padding token\n",
    "\n",
    "# Dataset\n",
    "X1, X2, y = load_numpy_dataset(f\"../processed_data/numeric_chunks_{max_length}\")\n",
    "dataset = ProteinDataset(X1, X2, y)\n",
    "train_size = int(0.7 * len(dataset))\n",
    "val_size   = int(0.15 * len(dataset))\n",
    "test_size  = len(dataset) - train_size - val_size\n",
    "train_dataset, val_dataset, test_dataset = random_split(dataset, [train_size, val_size, test_size])\n",
    "\n",
    "train_loader = DataLoader(train_dataset, batch_size=batch_size, shuffle=True, num_workers=4, pin_memory=True)\n",
    "val_loader   = DataLoader(val_dataset, batch_size=batch_size)\n",
    "test_loader  = DataLoader(test_dataset, batch_size=batch_size)"
   ]
  },
  {
   "cell_type": "code",
   "execution_count": null,
   "id": "a2451915",
   "metadata": {},
   "outputs": [],
   "source": [
    "from models.pipr_model import PIPRModel\n",
    "\n",
    "model = PIPRModel(\n",
    "    vocab_size=vocab_size,\n",
    "    embedding_dim=128,\n",
    "    hidden_dim=256,\n",
    ").to(device)\n",
    "\n",
    "criterion = BCEWithLogitsLoss()\n",
    "optimizer = Adam(model.parameters(), lr=lr)"
   ]
  },
  {
   "cell_type": "code",
   "execution_count": null,
   "id": "8a627efb",
   "metadata": {},
   "outputs": [],
   "source": [
    "from tqdm import tqdm\n",
    "import torch\n",
    "from torch.amp.autocast_mode import autocast\n",
    "from torch.amp.grad_scaler import GradScaler\n",
    "\n",
    "scaler = GradScaler()\n",
    "\n",
    "for epoch in range(num_epochs):\n",
    "    model.train()\n",
    "    train_loss = 0.0\n",
    "    print(f\"\\nEpoch {epoch + 1}/{num_epochs}\")\n",
    "\n",
    "    for step, (x1, x2, y) in enumerate(tqdm(train_loader, desc=\"Training\", leave=False)):\n",
    "        x1, x2, y = x1.to(device), x2.to(device), y.to(device)\n",
    "\n",
    "        optimizer.zero_grad()\n",
    "        with autocast(\"cuda\"):  # Mixed precision activa aquí\n",
    "            logits = model(x1, x2)\n",
    "            loss = criterion(logits, y)\n",
    "\n",
    "        scaler.scale(loss).backward()\n",
    "        scaler.step(optimizer)\n",
    "        scaler.update()\n",
    "\n",
    "        train_loss += loss.item()\n",
    "\n",
    "    avg_train_loss = train_loss / len(train_loader)\n",
    "    print(f\"---Train loss: {avg_train_loss:.4f}\")\n",
    "\n",
    "    # Validation\n",
    "    model.eval()\n",
    "    val_loss, correct, total = 0.0, 0, 0\n",
    "    with torch.no_grad():\n",
    "        for x1, x2, y in tqdm(val_loader, desc=\"Validation\", leave=False):\n",
    "            x1, x2, y = x1.to(device), x2.to(device), y.to(device)\n",
    "            with autocast(\"cuda\"):\n",
    "                logits = model(x1, x2)\n",
    "                loss = criterion(logits, y)\n",
    "            val_loss += loss.item()\n",
    "\n",
    "            preds = (torch.sigmoid(logits) >= 0.5).long()\n",
    "            correct += (preds == y.long()).sum().item()\n",
    "            total += y.size(0)\n",
    "\n",
    "    avg_val_loss = val_loss / len(val_loader)\n",
    "    val_acc = correct / total\n",
    "    print(f\"---Val loss: {avg_val_loss:.4f} | Accuracy: {val_acc:.4f}\")\n",
    "\n",
    "torch.save(model.state_dict(), f\"../models/pipr_model_epochs_{num_epochs}.pth\")"
   ]
  },
  {
   "cell_type": "code",
   "execution_count": null,
   "id": "06087485",
   "metadata": {},
   "outputs": [],
   "source": [
    "model.eval()\n",
    "correct, total = 0, 0\n",
    "with torch.no_grad():\n",
    "    for x1, x2, y in test_loader:\n",
    "        x1, x2, y = x1.to(device), x2.to(device), y.to(device)\n",
    "        with autocast(\"cuda\"):\n",
    "            logits = model(x1, x2)\n",
    "        preds = torch.sigmoid(logits) > 0.5\n",
    "        correct += (preds == y.bool()).sum().item()\n",
    "        total += y.size(0)\n",
    "\n",
    "test_acc = correct / total\n",
    "print(f\"Test Accuracy: {test_acc:.4f}\")"
   ]
  }
 ],
 "metadata": {
  "kernelspec": {
   "display_name": "tfm_env",
   "language": "python",
   "name": "python3"
  },
  "language_info": {
   "codemirror_mode": {
    "name": "ipython",
    "version": 3
   },
   "file_extension": ".py",
   "mimetype": "text/x-python",
   "name": "python",
   "nbconvert_exporter": "python",
   "pygments_lexer": "ipython3",
   "version": "3.12.3"
  }
 },
 "nbformat": 4,
 "nbformat_minor": 5
}
