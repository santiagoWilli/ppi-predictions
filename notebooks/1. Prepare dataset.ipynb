{
 "cells": [
  {
   "cell_type": "markdown",
   "metadata": {},
   "source": [
    "# Preparación del dataset con STRING y Ensembl\n",
    "\n",
    "En este notebook prepararemos el dataset con las interacciones físicas directas registradas en el dataset STRING filtrado por la especie homo sapiens y se emparejará cada ID de proteína a su secuencia de aminoacidos correspondiente para en el siguiente notebook hacer el preprocesamiento necesario antes de entrenar el modelo."
   ]
  },
  {
   "cell_type": "code",
   "execution_count": 1,
   "metadata": {},
   "outputs": [],
   "source": [
    "import sys\n",
    "import os\n",
    "sys.path.append(os.path.abspath(\"../src\"))"
   ]
  },
  {
   "cell_type": "code",
   "execution_count": 2,
   "metadata": {},
   "outputs": [
    {
     "name": "stdout",
     "output_type": "stream",
     "text": [
      "--2025-06-08 19:05:06--  https://stringdb-static.org/download/protein.physical.links.full.v12.0/9606.protein.physical.links.full.v12.0.txt.gz\n",
      "Resolviendo stringdb-static.org (stringdb-static.org)... 49.12.123.75\n",
      "Conectando con stringdb-static.org (stringdb-static.org)[49.12.123.75]:443... conectado.\n",
      "Petición HTTP enviada, esperando respuesta... 200 OK\n",
      "Longitud: 11766797 (11M) [application/octet-stream]\n",
      "Guardando como: ‘9606.protein.physical.links.full.v12.0.txt.gz’\n",
      "\n",
      "9606.protein.physic 100%[===================>]  11,22M  16,8MB/s    en 0,7s    \n",
      "\n",
      "2025-06-08 19:05:07 (16,8 MB/s) - ‘9606.protein.physical.links.full.v12.0.txt.gz’ guardado [11766797/11766797]\n",
      "\n"
     ]
    }
   ],
   "source": [
    "!wget https://stringdb-static.org/download/protein.physical.links.full.v12.0/9606.protein.physical.links.full.v12.0.txt.gz\n",
    "!gunzip 9606.protein.physical.links.full.v12.0.txt.gz\n",
    "!mv 9606.protein.physical.links.full.v12.0.txt ../datasets/"
   ]
  },
  {
   "cell_type": "code",
   "execution_count": 3,
   "metadata": {},
   "outputs": [
    {
     "name": "stdout",
     "output_type": "stream",
     "text": [
      "--2025-06-08 19:05:08--  https://ftp.ensembl.org/pub/release-114/fasta/homo_sapiens/pep/Homo_sapiens.GRCh38.pep.all.fa.gz\n",
      "Resolviendo ftp.ensembl.org (ftp.ensembl.org)... 193.62.193.169\n",
      "Conectando con ftp.ensembl.org (ftp.ensembl.org)[193.62.193.169]:443... conectado.\n",
      "Petición HTTP enviada, esperando respuesta... 200 OK\n",
      "Longitud: 14966285 (14M) [application/x-gzip]\n",
      "Guardando como: ‘Homo_sapiens.GRCh38.pep.all.fa.gz’\n",
      "\n",
      "Homo_sapiens.GRCh38 100%[===================>]  14,27M  18,1MB/s    en 0,8s    \n",
      "\n",
      "2025-06-08 19:05:09 (18,1 MB/s) - ‘Homo_sapiens.GRCh38.pep.all.fa.gz’ guardado [14966285/14966285]\n",
      "\n"
     ]
    }
   ],
   "source": [
    "!wget https://ftp.ensembl.org/pub/release-114/fasta/homo_sapiens/pep/Homo_sapiens.GRCh38.pep.all.fa.gz\n",
    "!gunzip Homo_sapiens.GRCh38.pep.all.fa.gz\n",
    "!mv Homo_sapiens.GRCh38.pep.all.fa ../datasets/"
   ]
  },
  {
   "cell_type": "markdown",
   "metadata": {},
   "source": [
    "## 1. Exploración de datos"
   ]
  },
  {
   "cell_type": "code",
   "execution_count": 4,
   "metadata": {},
   "outputs": [
    {
     "data": {
      "text/html": [
       "<div>\n",
       "<style scoped>\n",
       "    .dataframe tbody tr th:only-of-type {\n",
       "        vertical-align: middle;\n",
       "    }\n",
       "\n",
       "    .dataframe tbody tr th {\n",
       "        vertical-align: top;\n",
       "    }\n",
       "\n",
       "    .dataframe thead th {\n",
       "        text-align: right;\n",
       "    }\n",
       "</style>\n",
       "<table border=\"1\" class=\"dataframe\">\n",
       "  <thead>\n",
       "    <tr style=\"text-align: right;\">\n",
       "      <th></th>\n",
       "      <th>protein1</th>\n",
       "      <th>protein2</th>\n",
       "      <th>homology</th>\n",
       "      <th>experiments</th>\n",
       "      <th>experiments_transferred</th>\n",
       "      <th>database</th>\n",
       "      <th>database_transferred</th>\n",
       "      <th>textmining</th>\n",
       "      <th>textmining_transferred</th>\n",
       "      <th>combined_score</th>\n",
       "    </tr>\n",
       "  </thead>\n",
       "  <tbody>\n",
       "    <tr>\n",
       "      <th>0</th>\n",
       "      <td>9606.ENSP00000000233</td>\n",
       "      <td>9606.ENSP00000257770</td>\n",
       "      <td>0</td>\n",
       "      <td>312</td>\n",
       "      <td>0</td>\n",
       "      <td>0</td>\n",
       "      <td>0</td>\n",
       "      <td>0</td>\n",
       "      <td>0</td>\n",
       "      <td>311</td>\n",
       "    </tr>\n",
       "    <tr>\n",
       "      <th>1</th>\n",
       "      <td>9606.ENSP00000000233</td>\n",
       "      <td>9606.ENSP00000226004</td>\n",
       "      <td>0</td>\n",
       "      <td>162</td>\n",
       "      <td>0</td>\n",
       "      <td>0</td>\n",
       "      <td>0</td>\n",
       "      <td>0</td>\n",
       "      <td>0</td>\n",
       "      <td>161</td>\n",
       "    </tr>\n",
       "    <tr>\n",
       "      <th>2</th>\n",
       "      <td>9606.ENSP00000000233</td>\n",
       "      <td>9606.ENSP00000434442</td>\n",
       "      <td>0</td>\n",
       "      <td>0</td>\n",
       "      <td>0</td>\n",
       "      <td>500</td>\n",
       "      <td>0</td>\n",
       "      <td>0</td>\n",
       "      <td>0</td>\n",
       "      <td>499</td>\n",
       "    </tr>\n",
       "    <tr>\n",
       "      <th>3</th>\n",
       "      <td>9606.ENSP00000000233</td>\n",
       "      <td>9606.ENSP00000262455</td>\n",
       "      <td>0</td>\n",
       "      <td>531</td>\n",
       "      <td>0</td>\n",
       "      <td>0</td>\n",
       "      <td>0</td>\n",
       "      <td>0</td>\n",
       "      <td>0</td>\n",
       "      <td>531</td>\n",
       "    </tr>\n",
       "    <tr>\n",
       "      <th>4</th>\n",
       "      <td>9606.ENSP00000000233</td>\n",
       "      <td>9606.ENSP00000303145</td>\n",
       "      <td>0</td>\n",
       "      <td>0</td>\n",
       "      <td>0</td>\n",
       "      <td>500</td>\n",
       "      <td>0</td>\n",
       "      <td>0</td>\n",
       "      <td>0</td>\n",
       "      <td>499</td>\n",
       "    </tr>\n",
       "  </tbody>\n",
       "</table>\n",
       "</div>"
      ],
      "text/plain": [
       "               protein1              protein2  homology  experiments  \\\n",
       "0  9606.ENSP00000000233  9606.ENSP00000257770         0          312   \n",
       "1  9606.ENSP00000000233  9606.ENSP00000226004         0          162   \n",
       "2  9606.ENSP00000000233  9606.ENSP00000434442         0            0   \n",
       "3  9606.ENSP00000000233  9606.ENSP00000262455         0          531   \n",
       "4  9606.ENSP00000000233  9606.ENSP00000303145         0            0   \n",
       "\n",
       "   experiments_transferred  database  database_transferred  textmining  \\\n",
       "0                        0         0                     0           0   \n",
       "1                        0         0                     0           0   \n",
       "2                        0       500                     0           0   \n",
       "3                        0         0                     0           0   \n",
       "4                        0       500                     0           0   \n",
       "\n",
       "   textmining_transferred  combined_score  \n",
       "0                       0             311  \n",
       "1                       0             161  \n",
       "2                       0             499  \n",
       "3                       0             531  \n",
       "4                       0             499  "
      ]
     },
     "execution_count": 4,
     "metadata": {},
     "output_type": "execute_result"
    }
   ],
   "source": [
    "import pandas as pd\n",
    "\n",
    "db_string_path = '../datasets/9606.protein.physical.links.full.v12.0.txt'\n",
    "df_string = pd.read_csv(db_string_path, sep=' ', low_memory=False)\n",
    "\n",
    "df_string.head()"
   ]
  },
  {
   "cell_type": "code",
   "execution_count": 5,
   "metadata": {},
   "outputs": [
    {
     "data": {
      "text/plain": [
       "(1477610, 10)"
      ]
     },
     "execution_count": 5,
     "metadata": {},
     "output_type": "execute_result"
    }
   ],
   "source": [
    "df_string.shape"
   ]
  },
  {
   "cell_type": "code",
   "execution_count": 6,
   "metadata": {},
   "outputs": [
    {
     "name": "stdout",
     "output_type": "stream",
     "text": [
      "<class 'pandas.core.frame.DataFrame'>\n",
      "RangeIndex: 1477610 entries, 0 to 1477609\n",
      "Data columns (total 10 columns):\n",
      " #   Column                   Non-Null Count    Dtype \n",
      "---  ------                   --------------    ----- \n",
      " 0   protein1                 1477610 non-null  object\n",
      " 1   protein2                 1477610 non-null  object\n",
      " 2   homology                 1477610 non-null  int64 \n",
      " 3   experiments              1477610 non-null  int64 \n",
      " 4   experiments_transferred  1477610 non-null  int64 \n",
      " 5   database                 1477610 non-null  int64 \n",
      " 6   database_transferred     1477610 non-null  int64 \n",
      " 7   textmining               1477610 non-null  int64 \n",
      " 8   textmining_transferred   1477610 non-null  int64 \n",
      " 9   combined_score           1477610 non-null  int64 \n",
      "dtypes: int64(8), object(2)\n",
      "memory usage: 112.7+ MB\n"
     ]
    }
   ],
   "source": [
    "df_string.info()"
   ]
  },
  {
   "cell_type": "code",
   "execution_count": 7,
   "metadata": {},
   "outputs": [
    {
     "data": {
      "text/plain": [
       "np.int64(0)"
      ]
     },
     "execution_count": 7,
     "metadata": {},
     "output_type": "execute_result"
    }
   ],
   "source": [
    "df_string.isna().sum().sum()"
   ]
  },
  {
   "cell_type": "markdown",
   "metadata": {},
   "source": [
    "## 2. Limpieza y preparación de datos\n",
    "El dataset de STRING que hemos descargado indica en la propia web: \"incl. distinction: direct vs. interologs\". Esto significa que se indica qué interacciones son directas o por interología. Para nuestro proyecto buscamos aquellas directas comprobadas en humanos mediante técnicas experimentales. Estas son las que tienen experimentos registrados."
   ]
  },
  {
   "cell_type": "code",
   "execution_count": 8,
   "metadata": {},
   "outputs": [
    {
     "name": "stdout",
     "output_type": "stream",
     "text": [
      "Total de interacciones con evidencia experimental directa: 947158\n"
     ]
    },
    {
     "data": {
      "text/html": [
       "<div>\n",
       "<style scoped>\n",
       "    .dataframe tbody tr th:only-of-type {\n",
       "        vertical-align: middle;\n",
       "    }\n",
       "\n",
       "    .dataframe tbody tr th {\n",
       "        vertical-align: top;\n",
       "    }\n",
       "\n",
       "    .dataframe thead th {\n",
       "        text-align: right;\n",
       "    }\n",
       "</style>\n",
       "<table border=\"1\" class=\"dataframe\">\n",
       "  <thead>\n",
       "    <tr style=\"text-align: right;\">\n",
       "      <th></th>\n",
       "      <th>protein1</th>\n",
       "      <th>protein2</th>\n",
       "      <th>homology</th>\n",
       "      <th>experiments</th>\n",
       "      <th>experiments_transferred</th>\n",
       "      <th>database</th>\n",
       "      <th>database_transferred</th>\n",
       "      <th>textmining</th>\n",
       "      <th>textmining_transferred</th>\n",
       "      <th>combined_score</th>\n",
       "    </tr>\n",
       "  </thead>\n",
       "  <tbody>\n",
       "    <tr>\n",
       "      <th>0</th>\n",
       "      <td>9606.ENSP00000000233</td>\n",
       "      <td>9606.ENSP00000257770</td>\n",
       "      <td>0</td>\n",
       "      <td>312</td>\n",
       "      <td>0</td>\n",
       "      <td>0</td>\n",
       "      <td>0</td>\n",
       "      <td>0</td>\n",
       "      <td>0</td>\n",
       "      <td>311</td>\n",
       "    </tr>\n",
       "    <tr>\n",
       "      <th>1</th>\n",
       "      <td>9606.ENSP00000000233</td>\n",
       "      <td>9606.ENSP00000226004</td>\n",
       "      <td>0</td>\n",
       "      <td>162</td>\n",
       "      <td>0</td>\n",
       "      <td>0</td>\n",
       "      <td>0</td>\n",
       "      <td>0</td>\n",
       "      <td>0</td>\n",
       "      <td>161</td>\n",
       "    </tr>\n",
       "    <tr>\n",
       "      <th>3</th>\n",
       "      <td>9606.ENSP00000000233</td>\n",
       "      <td>9606.ENSP00000262455</td>\n",
       "      <td>0</td>\n",
       "      <td>531</td>\n",
       "      <td>0</td>\n",
       "      <td>0</td>\n",
       "      <td>0</td>\n",
       "      <td>0</td>\n",
       "      <td>0</td>\n",
       "      <td>531</td>\n",
       "    </tr>\n",
       "    <tr>\n",
       "      <th>5</th>\n",
       "      <td>9606.ENSP00000000233</td>\n",
       "      <td>9606.ENSP00000263265</td>\n",
       "      <td>0</td>\n",
       "      <td>292</td>\n",
       "      <td>0</td>\n",
       "      <td>0</td>\n",
       "      <td>0</td>\n",
       "      <td>0</td>\n",
       "      <td>0</td>\n",
       "      <td>292</td>\n",
       "    </tr>\n",
       "    <tr>\n",
       "      <th>6</th>\n",
       "      <td>9606.ENSP00000000233</td>\n",
       "      <td>9606.ENSP00000365686</td>\n",
       "      <td>0</td>\n",
       "      <td>221</td>\n",
       "      <td>0</td>\n",
       "      <td>0</td>\n",
       "      <td>0</td>\n",
       "      <td>0</td>\n",
       "      <td>0</td>\n",
       "      <td>221</td>\n",
       "    </tr>\n",
       "  </tbody>\n",
       "</table>\n",
       "</div>"
      ],
      "text/plain": [
       "               protein1              protein2  homology  experiments  \\\n",
       "0  9606.ENSP00000000233  9606.ENSP00000257770         0          312   \n",
       "1  9606.ENSP00000000233  9606.ENSP00000226004         0          162   \n",
       "3  9606.ENSP00000000233  9606.ENSP00000262455         0          531   \n",
       "5  9606.ENSP00000000233  9606.ENSP00000263265         0          292   \n",
       "6  9606.ENSP00000000233  9606.ENSP00000365686         0          221   \n",
       "\n",
       "   experiments_transferred  database  database_transferred  textmining  \\\n",
       "0                        0         0                     0           0   \n",
       "1                        0         0                     0           0   \n",
       "3                        0         0                     0           0   \n",
       "5                        0         0                     0           0   \n",
       "6                        0         0                     0           0   \n",
       "\n",
       "   textmining_transferred  combined_score  \n",
       "0                       0             311  \n",
       "1                       0             161  \n",
       "3                       0             531  \n",
       "5                       0             292  \n",
       "6                       0             221  "
      ]
     },
     "execution_count": 8,
     "metadata": {},
     "output_type": "execute_result"
    }
   ],
   "source": [
    "df_direct = df_string[df_string['experiments'] > 0]\n",
    "print(f\"Total de interacciones con evidencia experimental directa: {len(df_direct)}\")\n",
    "df_direct.head()"
   ]
  },
  {
   "cell_type": "markdown",
   "metadata": {},
   "source": [
    "Ahora que tenemos aquellas proteínas con interacción física directa, obtenemos el listado de proteínas únicas y nos quedamos con los pares de proteínas conocidos (estos serán nuestros casos positivos) para luego generar pares que no estén registrados (estos serán los casos negativos)."
   ]
  },
  {
   "cell_type": "code",
   "execution_count": 9,
   "metadata": {},
   "outputs": [
    {
     "name": "stdout",
     "output_type": "stream",
     "text": [
      "Número de proteínas únicas: 18767\n"
     ]
    }
   ],
   "source": [
    "# Obtenemos todas las proteínas únicas\n",
    "all_proteins = pd.unique(df_string[['protein1', 'protein2']].values.ravel())\n",
    "print(f\"Número de proteínas únicas: {len(all_proteins)}\")"
   ]
  },
  {
   "cell_type": "code",
   "execution_count": 10,
   "metadata": {},
   "outputs": [],
   "source": [
    "positive_pairs = set(\n",
    "    tuple(sorted([row['protein1'], row['protein2']]))\n",
    "    for _, row in df_direct.iterrows()\n",
    ")"
   ]
  },
  {
   "cell_type": "code",
   "execution_count": 11,
   "metadata": {},
   "outputs": [],
   "source": [
    "import random\n",
    "\n",
    "negative_pairs = set()\n",
    "\n",
    "while len(negative_pairs) < len(df_direct):\n",
    "    p1, p2 = random.sample(list(all_proteins), 2)\n",
    "    pair = tuple(sorted([p1, p2]))\n",
    "    if pair not in positive_pairs:\n",
    "        negative_pairs.add(pair)"
   ]
  },
  {
   "cell_type": "markdown",
   "metadata": {},
   "source": [
    "Acabamos de generar el set de casos negativos para nuestro modelo. Sin embargo, hay que aclarar que aquí nos encontramos ante uno de los mayores desafíos conceptuales de las PPI: los casos negativos no implica que esas dos proteínas se haya demostrado que no interactúen entre ellas, implica que su interacción no está recogida dentro del listado de interacciones conocidas. Esto nos dice que un par del set de negativos podría en realidad dar lugar a una interacción positiva si se hiciese una prueba experimental. Entonces, **asumimos que los pares \"negativos\" no es que no interactúen entre ellas, sino que desconocemos su interacción**."
   ]
  },
  {
   "cell_type": "code",
   "execution_count": 12,
   "metadata": {},
   "outputs": [],
   "source": [
    "df_negative = pd.DataFrame(list(negative_pairs), columns=['protein1', 'protein2'])\n",
    "df_negative['label'] = 0\n",
    "\n",
    "df_positive = df_direct[['protein1', 'protein2']].copy()\n",
    "df_positive['label'] = 1\n",
    "\n",
    "df_string_balanced = pd.concat([df_positive, df_negative], ignore_index=True)"
   ]
  },
  {
   "cell_type": "markdown",
   "metadata": {},
   "source": [
    "Ahora traducimos cada proteína de su ID a su aminoácido correspondiente gracias al fichero FASTA de Ensembl."
   ]
  },
  {
   "cell_type": "code",
   "execution_count": 13,
   "metadata": {},
   "outputs": [
    {
     "name": "stdout",
     "output_type": "stream",
     "text": [
      "Total de proteínas indexadas: 123887\n"
     ]
    }
   ],
   "source": [
    "from fasta_parser import FastaParser\n",
    "\n",
    "fasta_parser = FastaParser(\"../datasets/Homo_sapiens.GRCh38.pep.all.fa\")\n",
    "protein_seqs = fasta_parser.to_dict()\n",
    "\n",
    "print(f\"Total de proteínas indexadas: {len(protein_seqs)}\")"
   ]
  },
  {
   "cell_type": "code",
   "execution_count": 14,
   "metadata": {},
   "outputs": [
    {
     "name": "stdout",
     "output_type": "stream",
     "text": [
      "ENSP00000451468: XSQPHTKPSVFVMKNGTNVACLVKEFYPKDIRINLVSSKKITEFDPAIVI...\n",
      "ENSP00000480116: XIQNPDPAVYQLRDSKSSDKSVCLFTDFDSQTNVSQSKDSDVYITDKTVL...\n",
      "ENSP00000487742: XDLNKVFPPEVAVFEPSEAEISHTQKATLVCLATGFFPDHVELSWWVNGK...\n",
      "ENSP00000488819: XDLNKVFPPEVAVFEPSEAEISHTQKATLVCLATGFFPDHVELSWWVNGK...\n",
      "ENSP00000478873: XDLKNVFPPEVAVFEPSEAEISHTQKATLVCLATGFYPDHVELSWWVNGK...\n"
     ]
    }
   ],
   "source": [
    "for i, (ensembl_id, seq) in enumerate(protein_seqs.items()):\n",
    "    print(f\"{ensembl_id}: {seq[:50]}...\")\n",
    "    if i >= 4:\n",
    "        break"
   ]
  },
  {
   "cell_type": "code",
   "execution_count": 15,
   "metadata": {},
   "outputs": [],
   "source": [
    "df_string_balanced[\"sequence1\"] = df_string_balanced[\"protein1\"].apply(\n",
    "    lambda p: protein_seqs.get(fasta_parser.extract_ensembl_id(p), None)\n",
    ")\n",
    "df_string_balanced[\"sequence2\"] = df_string_balanced[\"protein2\"].apply(\n",
    "    lambda p: protein_seqs.get(fasta_parser.extract_ensembl_id(p), None)\n",
    ")"
   ]
  },
  {
   "cell_type": "code",
   "execution_count": 16,
   "metadata": {},
   "outputs": [
    {
     "data": {
      "text/plain": [
       "(1894316, 5)"
      ]
     },
     "execution_count": 16,
     "metadata": {},
     "output_type": "execute_result"
    }
   ],
   "source": [
    "df_string_balanced.shape"
   ]
  },
  {
   "cell_type": "code",
   "execution_count": 17,
   "metadata": {},
   "outputs": [
    {
     "data": {
      "text/plain": [
       "np.int64(66485)"
      ]
     },
     "execution_count": 17,
     "metadata": {},
     "output_type": "execute_result"
    }
   ],
   "source": [
    "df_string_balanced.isna().sum().sum()"
   ]
  },
  {
   "cell_type": "markdown",
   "metadata": {},
   "source": [
    "Observamos que hay 66626 NaNs en nuestro DF tras añadir las secuencias de aminoácidos. Investigamos qué ocurre."
   ]
  },
  {
   "cell_type": "code",
   "execution_count": 18,
   "metadata": {},
   "outputs": [
    {
     "name": "stdout",
     "output_type": "stream",
     "text": [
      "🔍 Pares con al menos un ID faltante: 65869\n",
      "🔍 IDs únicos no encontrados: 366\n",
      "\n",
      "🔍 Ejemplos de IDs no encontrados:\n",
      "['ENSP00000392700', 'ENSP00000414922', 'ENSP00000484940', 'ENSP00000362551', 'ENSP00000370208', 'ENSP00000498888', 'ENSP00000385519', 'ENSP00000471239', 'ENSP00000479069', 'ENSP00000482552']\n"
     ]
    }
   ],
   "source": [
    "from utils import analyze_missing_proteins\n",
    "\n",
    "analyze_missing_proteins(df_string_balanced, protein_seqs)"
   ]
  },
  {
   "cell_type": "markdown",
   "metadata": {},
   "source": [
    "Parece que el problema es que 366 proteínas del dataset de STRING no se encuentran en el archivo FASTA de Ensembl. Esto puede deberse a distintos factores, como que las proteínas hayan sido renombradas, retiradas o aún no incluídas en el fichero de Ensembl. Teniendo en cuenta que tenemos un dataset con 1.894.316 entradas, eliminar 65.869 no se considera un problema."
   ]
  },
  {
   "cell_type": "code",
   "execution_count": 19,
   "metadata": {},
   "outputs": [],
   "source": [
    "df_string_balanced.dropna(inplace=True)"
   ]
  },
  {
   "cell_type": "code",
   "execution_count": 20,
   "metadata": {},
   "outputs": [],
   "source": [
    "import gc\n",
    "\n",
    "del df_string\n",
    "del df_direct\n",
    "del df_negative\n",
    "del df_positive\n",
    "gc.collect()\n",
    "\n",
    "# Guardamos el DataFrame balanceado\n",
    "df_string_balanced.to_parquet(\"../datasets/df_string_balanced.parquet\")"
   ]
  },
  {
   "cell_type": "markdown",
   "metadata": {},
   "source": [
    "## Conclusión\n",
    "\n",
    "En este primer notebook hemos creado nuestro dataset a partir de los datos de STRING y Ensembl, sin valores nulos y haciendo que los datos estén balanceado al crear como negativos pares de secuencias cuya interacción no es conocida."
   ]
  }
 ],
 "metadata": {
  "kernelspec": {
   "display_name": "tfm_env",
   "language": "python",
   "name": "python3"
  },
  "language_info": {
   "codemirror_mode": {
    "name": "ipython",
    "version": 3
   },
   "file_extension": ".py",
   "mimetype": "text/x-python",
   "name": "python",
   "nbconvert_exporter": "python",
   "pygments_lexer": "ipython3",
   "version": "3.12.3"
  }
 },
 "nbformat": 4,
 "nbformat_minor": 2
}
